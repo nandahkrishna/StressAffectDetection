{
 "cells": [
  {
   "cell_type": "markdown",
   "metadata": {},
   "source": [
    "# DREAMER Arousal EMI-GRU 48_16"
   ]
  },
  {
   "cell_type": "markdown",
   "metadata": {},
   "source": [
    "Adapted from Microsoft's notebooks, available at https://github.com/microsoft/EdgeML authored by Dennis et al."
   ]
  },
  {
   "cell_type": "code",
   "execution_count": 1,
   "metadata": {},
   "outputs": [],
   "source": [
    "import pandas as pd\n",
    "import numpy as np\n",
    "from tabulate import tabulate\n",
    "import os\n",
    "import datetime as datetime\n",
    "import pickle as pkl\n",
    "import pathlib"
   ]
  },
  {
   "cell_type": "code",
   "execution_count": 2,
   "metadata": {
    "ExecuteTime": {
     "end_time": "2018-12-14T14:17:51.796585Z",
     "start_time": "2018-12-14T14:17:49.648375Z"
    }
   },
   "outputs": [
    {
     "name": "stderr",
     "output_type": "stream",
     "text": [
      "Using TensorFlow backend.\n"
     ]
    }
   ],
   "source": [
    "from __future__ import print_function\n",
    "import os\n",
    "import sys\n",
    "import tensorflow as tf\n",
    "import numpy as np\n",
    "# Making sure edgeml is part of python path\n",
    "sys.path.insert(0, '../../')\n",
    "os.environ['CUDA_VISIBLE_DEVICES'] = '0'\n",
    "\n",
    "np.random.seed(42)\n",
    "tf.set_random_seed(42)\n",
    "\n",
    "# MI-RNN and EMI-RNN imports\n",
    "from edgeml.graph.rnn import EMI_DataPipeline\n",
    "from edgeml.graph.rnn import EMI_GRU\n",
    "from edgeml.trainer.emirnnTrainer import EMI_Trainer, EMI_Driver\n",
    "import edgeml.utils\n",
    "\n",
    "import keras.backend as K\n",
    "cfg = K.tf.ConfigProto()\n",
    "cfg.gpu_options.allow_growth = True\n",
    "K.set_session(K.tf.Session(config=cfg))"
   ]
  },
  {
   "cell_type": "code",
   "execution_count": 3,
   "metadata": {
    "ExecuteTime": {
     "end_time": "2018-12-14T14:17:51.803381Z",
     "start_time": "2018-12-14T14:17:51.798799Z"
    }
   },
   "outputs": [],
   "source": [
    "# Network parameters for our LSTM + FC Layer\n",
    "NUM_HIDDEN = 128\n",
    "NUM_TIMESTEPS = 48\n",
    "ORIGINAL_NUM_TIMESTEPS = 128\n",
    "NUM_FEATS = 16\n",
    "FORGET_BIAS = 1.0\n",
    "NUM_OUTPUT = 5\n",
    "USE_DROPOUT = True\n",
    "KEEP_PROB = 0.75\n",
    "\n",
    "# For dataset API\n",
    "PREFETCH_NUM = 5\n",
    "BATCH_SIZE = 32\n",
    "\n",
    "# Number of epochs in *one iteration*\n",
    "NUM_EPOCHS = 2\n",
    "\n",
    "# Number of iterations in *one round*. After each iteration,\n",
    "# the model is dumped to disk. At the end of the current\n",
    "# round, the best model among all the dumped models in the\n",
    "# current round is picked up..\n",
    "NUM_ITER = 4\n",
    "\n",
    "# A round consists of multiple training iterations and a belief\n",
    "# update step using the best model from all of these iterations\n",
    "NUM_ROUNDS = 10\n",
    "LEARNING_RATE=0.001\n",
    "\n",
    "# A staging direcory to store models\n",
    "MODEL_PREFIX = '/home/sf/data/DREAMER/Arousal/models/model-gru'"
   ]
  },
  {
   "cell_type": "markdown",
   "metadata": {
    "heading_collapsed": true
   },
   "source": [
    "# Loading Data"
   ]
  },
  {
   "cell_type": "code",
   "execution_count": 4,
   "metadata": {
    "ExecuteTime": {
     "end_time": "2018-12-14T14:17:52.040352Z",
     "start_time": "2018-12-14T14:17:51.805319Z"
    },
    "hidden": true
   },
   "outputs": [
    {
     "name": "stdout",
     "output_type": "stream",
     "text": [
      "x_train shape is: (61735, 6, 48, 16)\n",
      "y_train shape is: (61735, 6, 5)\n",
      "x_test shape is: (6860, 6, 48, 16)\n",
      "y_test shape is: (6860, 6, 5)\n"
     ]
    }
   ],
   "source": [
    "# Loading the data\n",
    "x_train, y_train = np.load('/home/sf/data/DREAMER/Arousal/48_16/x_train.npy'), np.load('/home/sf/data/DREAMER/Arousal/48_16/y_train.npy')\n",
    "x_test, y_test = np.load('/home/sf/data/DREAMER/Arousal/48_16/x_test.npy'), np.load('/home/sf/data/DREAMER/Arousal/48_16/y_test.npy')\n",
    "x_val, y_val = np.load('/home/sf/data/DREAMER/Arousal/48_16/x_val.npy'), np.load('/home/sf/data/DREAMER/Arousal/48_16/y_val.npy')\n",
    "\n",
    "# BAG_TEST, BAG_TRAIN, BAG_VAL represent bag_level labels. These are used for the label update\n",
    "# step of EMI/MI RNN\n",
    "BAG_TEST = np.argmax(y_test[:, 0, :], axis=1)\n",
    "BAG_TRAIN = np.argmax(y_train[:, 0, :], axis=1)\n",
    "BAG_VAL = np.argmax(y_val[:, 0, :], axis=1)\n",
    "NUM_SUBINSTANCE = x_train.shape[1]\n",
    "print(\"x_train shape is:\", x_train.shape)\n",
    "print(\"y_train shape is:\", y_train.shape)\n",
    "print(\"x_test shape is:\", x_val.shape)\n",
    "print(\"y_test shape is:\", y_val.shape)"
   ]
  },
  {
   "cell_type": "markdown",
   "metadata": {},
   "source": [
    "# Computation Graph"
   ]
  },
  {
   "cell_type": "code",
   "execution_count": 5,
   "metadata": {
    "ExecuteTime": {
     "end_time": "2018-12-14T14:17:52.053161Z",
     "start_time": "2018-12-14T14:17:52.042928Z"
    }
   },
   "outputs": [],
   "source": [
    "# Define the linear secondary classifier\n",
    "def createExtendedGraph(self, baseOutput, *args, **kwargs):\n",
    "    W1 = tf.Variable(np.random.normal(size=[NUM_HIDDEN, NUM_OUTPUT]).astype('float32'), name='W1')\n",
    "    B1 = tf.Variable(np.random.normal(size=[NUM_OUTPUT]).astype('float32'), name='B1')\n",
    "    y_cap = tf.add(tf.tensordot(baseOutput, W1, axes=1), B1, name='y_cap_tata')\n",
    "    self.output = y_cap\n",
    "    self.graphCreated = True\n",
    "\n",
    "def restoreExtendedGraph(self, graph, *args, **kwargs):\n",
    "    y_cap = graph.get_tensor_by_name('y_cap_tata:0')\n",
    "    self.output = y_cap\n",
    "    self.graphCreated = True\n",
    "    \n",
    "def feedDictFunc(self, keep_prob=None, inference=False, **kwargs):\n",
    "    if inference is False:\n",
    "        feedDict = {self._emiGraph.keep_prob: keep_prob}\n",
    "    else:\n",
    "        feedDict = {self._emiGraph.keep_prob: 1.0}\n",
    "    return feedDict\n",
    "    \n",
    "EMI_GRU._createExtendedGraph = createExtendedGraph\n",
    "EMI_GRU._restoreExtendedGraph = restoreExtendedGraph\n",
    "\n",
    "if USE_DROPOUT is True:\n",
    "    EMI_Driver.feedDictFunc = feedDictFunc"
   ]
  },
  {
   "cell_type": "code",
   "execution_count": 6,
   "metadata": {
    "ExecuteTime": {
     "end_time": "2018-12-14T14:17:52.335299Z",
     "start_time": "2018-12-14T14:17:52.055483Z"
    }
   },
   "outputs": [],
   "source": [
    "inputPipeline = EMI_DataPipeline(NUM_SUBINSTANCE, NUM_TIMESTEPS, NUM_FEATS, NUM_OUTPUT)\n",
    "emiGRU = EMI_GRU(NUM_SUBINSTANCE, NUM_HIDDEN, NUM_TIMESTEPS, NUM_FEATS,\n",
    "                        useDropout=USE_DROPOUT)\n",
    "emiTrainer = EMI_Trainer(NUM_TIMESTEPS, NUM_OUTPUT, lossType='xentropy',\n",
    "                         stepSize=LEARNING_RATE)"
   ]
  },
  {
   "cell_type": "code",
   "execution_count": 7,
   "metadata": {
    "ExecuteTime": {
     "end_time": "2018-12-14T14:18:05.031382Z",
     "start_time": "2018-12-14T14:17:52.338750Z"
    }
   },
   "outputs": [],
   "source": [
    "tf.reset_default_graph()\n",
    "g1 = tf.Graph()    \n",
    "with g1.as_default():\n",
    "    # Obtain the iterators to each batch of the data\n",
    "    x_batch, y_batch = inputPipeline()\n",
    "    # Create the forward computation graph based on the iterators\n",
    "    y_cap = emiGRU(x_batch)\n",
    "    # Create loss graphs and training routines\n",
    "    emiTrainer(y_cap, y_batch)"
   ]
  },
  {
   "cell_type": "markdown",
   "metadata": {},
   "source": [
    "# EMI Driver"
   ]
  },
  {
   "cell_type": "code",
   "execution_count": 8,
   "metadata": {
    "ExecuteTime": {
     "end_time": "2018-12-14T14:35:15.209910Z",
     "start_time": "2018-12-14T14:18:05.034359Z"
    }
   },
   "outputs": [
    {
     "name": "stdout",
     "output_type": "stream",
     "text": [
      "Update policy: top-k\n",
      "Training with MI-RNN loss for 5 rounds\n",
      "Round: 0\n",
      "Epoch   1 Batch  1925 ( 3855) Loss 0.02828 Acc 0.39062 | Val acc 0.36778 | Model saved to /home/sf/data/DREAMER/Arousal/models/model-gru, global_step 1000\n",
      "Epoch   1 Batch  1925 ( 3855) Loss 0.02747 Acc 0.44271 | Val acc 0.40481 | Model saved to /home/sf/data/DREAMER/Arousal/models/model-gru, global_step 1001\n",
      "Epoch   1 Batch  1925 ( 3855) Loss 0.02699 Acc 0.46875 | Val acc 0.44227 | Model saved to /home/sf/data/DREAMER/Arousal/models/model-gru, global_step 1002\n",
      "Epoch   1 Batch  1925 ( 3855) Loss 0.02365 Acc 0.59375 | Val acc 0.47216 | Model saved to /home/sf/data/DREAMER/Arousal/models/model-gru, global_step 1003\n",
      "INFO:tensorflow:Restoring parameters from /home/sf/data/DREAMER/Arousal/models/model-gru-1003\n",
      "Round: 1\n",
      "Epoch   1 Batch  1925 ( 3855) Loss 0.02228 Acc 0.60938 | Val acc 0.51793 | Model saved to /home/sf/data/DREAMER/Arousal/models/model-gru, global_step 1004\n",
      "Epoch   1 Batch  1925 ( 3855) Loss 0.02062 Acc 0.63021 | Val acc 0.53601 | Model saved to /home/sf/data/DREAMER/Arousal/models/model-gru, global_step 1005\n",
      "Epoch   1 Batch  1925 ( 3855) Loss 0.02085 Acc 0.61458 | Val acc 0.55641 | Model saved to /home/sf/data/DREAMER/Arousal/models/model-gru, global_step 1006\n",
      "Epoch   1 Batch  1925 ( 3855) Loss 0.01955 Acc 0.62500 | Val acc 0.58499 | Model saved to /home/sf/data/DREAMER/Arousal/models/model-gru, global_step 1007\n",
      "INFO:tensorflow:Restoring parameters from /home/sf/data/DREAMER/Arousal/models/model-gru-1007\n",
      "Round: 2\n",
      "Epoch   1 Batch  1925 ( 3855) Loss 0.01866 Acc 0.67188 | Val acc 0.59650 | Model saved to /home/sf/data/DREAMER/Arousal/models/model-gru, global_step 1008\n",
      "Epoch   1 Batch  1925 ( 3855) Loss 0.01890 Acc 0.69792 | Val acc 0.61589 | Model saved to /home/sf/data/DREAMER/Arousal/models/model-gru, global_step 1009\n",
      "Epoch   1 Batch  1925 ( 3855) Loss 0.01878 Acc 0.69271 | Val acc 0.62085 | Model saved to /home/sf/data/DREAMER/Arousal/models/model-gru, global_step 1010\n",
      "Epoch   1 Batch  1925 ( 3855) Loss 0.01786 Acc 0.68229 | Val acc 0.62857 | Model saved to /home/sf/data/DREAMER/Arousal/models/model-gru, global_step 1011\n",
      "INFO:tensorflow:Restoring parameters from /home/sf/data/DREAMER/Arousal/models/model-gru-1011\n",
      "Round: 3\n",
      "Epoch   1 Batch  1925 ( 3855) Loss 0.01762 Acc 0.75521 | Val acc 0.63980 | Model saved to /home/sf/data/DREAMER/Arousal/models/model-gru, global_step 1012\n",
      "Epoch   1 Batch  1925 ( 3855) Loss 0.01638 Acc 0.76562 | Val acc 0.64490 | Model saved to /home/sf/data/DREAMER/Arousal/models/model-gru, global_step 1013\n",
      "Epoch   1 Batch  1925 ( 3855) Loss 0.01718 Acc 0.71875 | Val acc 0.63936 | Model saved to /home/sf/data/DREAMER/Arousal/models/model-gru, global_step 1014\n",
      "Epoch   1 Batch  1925 ( 3855) Loss 0.01692 Acc 0.69792 | Val acc 0.65000 | Model saved to /home/sf/data/DREAMER/Arousal/models/model-gru, global_step 1015\n",
      "INFO:tensorflow:Restoring parameters from /home/sf/data/DREAMER/Arousal/models/model-gru-1015\n",
      "Round: 4\n",
      "Epoch   1 Batch  1925 ( 3855) Loss 0.01506 Acc 0.77083 | Val acc 0.65729 | Model saved to /home/sf/data/DREAMER/Arousal/models/model-gru, global_step 1016\n",
      "Epoch   1 Batch  1925 ( 3855) Loss 0.01559 Acc 0.75000 | Val acc 0.66166 | Model saved to /home/sf/data/DREAMER/Arousal/models/model-gru, global_step 1017\n",
      "Epoch   1 Batch  1925 ( 3855) Loss 0.01509 Acc 0.75521 | Val acc 0.66166 | Model saved to /home/sf/data/DREAMER/Arousal/models/model-gru, global_step 1018\n",
      "Epoch   1 Batch  1925 ( 3855) Loss 0.01540 Acc 0.74479 | Val acc 0.66283 | Model saved to /home/sf/data/DREAMER/Arousal/models/model-gru, global_step 1019\n",
      "INFO:tensorflow:Restoring parameters from /home/sf/data/DREAMER/Arousal/models/model-gru-1019\n",
      "Round: 5\n",
      "Switching to EMI-Loss function\n",
      "Epoch   1 Batch  1925 ( 3855) Loss 0.92278 Acc 0.77083 | Val acc 0.64446 | Model saved to /home/sf/data/DREAMER/Arousal/models/model-gru, global_step 1020\n",
      "Epoch   1 Batch  1925 ( 3855) Loss 0.93813 Acc 0.73438 | Val acc 0.65058 | Model saved to /home/sf/data/DREAMER/Arousal/models/model-gru, global_step 1021\n",
      "Epoch   1 Batch  1925 ( 3855) Loss 0.94226 Acc 0.70833 | Val acc 0.64781 | Model saved to /home/sf/data/DREAMER/Arousal/models/model-gru, global_step 1022\n",
      "Epoch   1 Batch  1925 ( 3855) Loss 0.90150 Acc 0.75000 | Val acc 0.65437 | Model saved to /home/sf/data/DREAMER/Arousal/models/model-gru, global_step 1023\n",
      "INFO:tensorflow:Restoring parameters from /home/sf/data/DREAMER/Arousal/models/model-gru-1023\n",
      "Round: 6\n",
      "Epoch   1 Batch  1925 ( 3855) Loss 0.88298 Acc 0.77083 | Val acc 0.65277 | Model saved to /home/sf/data/DREAMER/Arousal/models/model-gru, global_step 1024\n",
      "Epoch   1 Batch  1925 ( 3855) Loss 0.87756 Acc 0.72917 | Val acc 0.65306 | Model saved to /home/sf/data/DREAMER/Arousal/models/model-gru, global_step 1025\n",
      "Epoch   1 Batch  1925 ( 3855) Loss 0.87819 Acc 0.71875 | Val acc 0.64927 | Model saved to /home/sf/data/DREAMER/Arousal/models/model-gru, global_step 1026\n",
      "Epoch   1 Batch  1925 ( 3855) Loss 0.82530 Acc 0.71354 | Val acc 0.65350 | Model saved to /home/sf/data/DREAMER/Arousal/models/model-gru, global_step 1027\n",
      "INFO:tensorflow:Restoring parameters from /home/sf/data/DREAMER/Arousal/models/model-gru-1027\n",
      "Round: 7\n",
      "Epoch   1 Batch  1925 ( 3855) Loss 0.84559 Acc 0.76562 | Val acc 0.65306 | Model saved to /home/sf/data/DREAMER/Arousal/models/model-gru, global_step 1028\n",
      "Epoch   1 Batch  1925 ( 3855) Loss 0.81977 Acc 0.79167 | Val acc 0.64636 | Model saved to /home/sf/data/DREAMER/Arousal/models/model-gru, global_step 1029\n",
      "Epoch   1 Batch  1925 ( 3855) Loss 0.83083 Acc 0.76042 | Val acc 0.64665 | Model saved to /home/sf/data/DREAMER/Arousal/models/model-gru, global_step 1030\n",
      "Epoch   1 Batch  1925 ( 3855) Loss 0.80918 Acc 0.75000 | Val acc 0.64796 | Model saved to /home/sf/data/DREAMER/Arousal/models/model-gru, global_step 1031\n",
      "INFO:tensorflow:Restoring parameters from /home/sf/data/DREAMER/Arousal/models/model-gru-1028\n",
      "Round: 8\n",
      "Epoch   1 Batch  1925 ( 3855) Loss 0.87074 Acc 0.71875 | Val acc 0.65015 | Model saved to /home/sf/data/DREAMER/Arousal/models/model-gru, global_step 1032\n",
      "Epoch   1 Batch  1925 ( 3855) Loss 0.83685 Acc 0.76562 | Val acc 0.65131 | Model saved to /home/sf/data/DREAMER/Arousal/models/model-gru, global_step 1033\n",
      "Epoch   1 Batch  1925 ( 3855) Loss 0.81599 Acc 0.75521 | Val acc 0.65117 | Model saved to /home/sf/data/DREAMER/Arousal/models/model-gru, global_step 1034\n",
      "Epoch   1 Batch  1925 ( 3855) Loss 0.83342 Acc 0.72917 | Val acc 0.64869 | Model saved to /home/sf/data/DREAMER/Arousal/models/model-gru, global_step 1035\n",
      "INFO:tensorflow:Restoring parameters from /home/sf/data/DREAMER/Arousal/models/model-gru-1033\n",
      "Round: 9\n",
      "Epoch   1 Batch  1925 ( 3855) Loss 0.82510 Acc 0.76042 | Val acc 0.64606 | Model saved to /home/sf/data/DREAMER/Arousal/models/model-gru, global_step 1036\n",
      "Epoch   1 Batch  1925 ( 3855) Loss 0.82719 Acc 0.76562 | Val acc 0.65335 | Model saved to /home/sf/data/DREAMER/Arousal/models/model-gru, global_step 1037\n",
      "Epoch   1 Batch  1925 ( 3855) Loss 0.81562 Acc 0.76042 | Val acc 0.64592 | Model saved to /home/sf/data/DREAMER/Arousal/models/model-gru, global_step 1038\n",
      "Epoch   1 Batch  1925 ( 3855) Loss 0.82774 Acc 0.79688 | Val acc 0.65087 | Model saved to /home/sf/data/DREAMER/Arousal/models/model-gru, global_step 1039\n",
      "INFO:tensorflow:Restoring parameters from /home/sf/data/DREAMER/Arousal/models/model-gru-1037\n"
     ]
    }
   ],
   "source": [
    "with g1.as_default():\n",
    "    emiDriver = EMI_Driver(inputPipeline, emiGRU, emiTrainer)\n",
    "\n",
    "emiDriver.initializeSession(g1)\n",
    "y_updated, modelStats = emiDriver.run(numClasses=NUM_OUTPUT, x_train=x_train,\n",
    "                                      y_train=y_train, bag_train=BAG_TRAIN,\n",
    "                                      x_val=x_val, y_val=y_val, bag_val=BAG_VAL,\n",
    "                                      numIter=NUM_ITER, keep_prob=KEEP_PROB,\n",
    "                                      numRounds=NUM_ROUNDS, batchSize=BATCH_SIZE,\n",
    "                                      numEpochs=NUM_EPOCHS, modelPrefix=MODEL_PREFIX,\n",
    "                                      fracEMI=0.5, updatePolicy='top-k', k=1)"
   ]
  },
  {
   "cell_type": "markdown",
   "metadata": {},
   "source": [
    "# Evaluating the  trained model"
   ]
  },
  {
   "cell_type": "code",
   "execution_count": 9,
   "metadata": {
    "ExecuteTime": {
     "end_time": "2018-12-14T14:35:15.218040Z",
     "start_time": "2018-12-14T14:35:15.211771Z"
    }
   },
   "outputs": [],
   "source": [
    "# Early Prediction Policy: We make an early prediction based on the predicted classes\n",
    "# probability. If the predicted class probability > minProb at some step, we make\n",
    "# a prediction at that step.\n",
    "def earlyPolicy_minProb(instanceOut, minProb, **kwargs):\n",
    "    assert instanceOut.ndim == 2\n",
    "    classes = np.argmax(instanceOut, axis=1)\n",
    "    prob = np.max(instanceOut, axis=1)\n",
    "    index = np.where(prob >= minProb)[0]\n",
    "    if len(index) == 0:\n",
    "        assert (len(instanceOut) - 1) == (len(classes) - 1)\n",
    "        return classes[-1], len(instanceOut) - 1\n",
    "    index = index[0]\n",
    "    return classes[index], index\n",
    "\n",
    "def getEarlySaving(predictionStep, numTimeSteps, returnTotal=False):\n",
    "    predictionStep = predictionStep + 1\n",
    "    predictionStep = np.reshape(predictionStep, -1)\n",
    "    totalSteps = np.sum(predictionStep)\n",
    "    maxSteps = len(predictionStep) * numTimeSteps\n",
    "    savings = 1.0 - (totalSteps / maxSteps)\n",
    "    if returnTotal:\n",
    "        return savings, totalSteps\n",
    "    return savings"
   ]
  },
  {
   "cell_type": "code",
   "execution_count": 10,
   "metadata": {
    "ExecuteTime": {
     "end_time": "2018-12-14T14:35:16.257489Z",
     "start_time": "2018-12-14T14:35:15.221029Z"
    },
    "scrolled": true
   },
   "outputs": [
    {
     "name": "stdout",
     "output_type": "stream",
     "text": [
      "Accuracy at k = 2: 0.646918\n",
      "Savings due to MI-RNN : 0.625000\n",
      "Savings due to Early prediction: 0.133430\n",
      "Total Savings: 0.675036\n"
     ]
    }
   ],
   "source": [
    "k = 2\n",
    "predictions, predictionStep = emiDriver.getInstancePredictions(x_test, y_test, earlyPolicy_minProb,\n",
    "                                                               minProb=0.99, keep_prob=1.0)\n",
    "bagPredictions = emiDriver.getBagPredictions(predictions, minSubsequenceLen=k, numClass=NUM_OUTPUT)\n",
    "print('Accuracy at k = %d: %f' % (k,  np.mean((bagPredictions == BAG_TEST).astype(int))))\n",
    "mi_savings = (1 - NUM_TIMESTEPS / ORIGINAL_NUM_TIMESTEPS)\n",
    "emi_savings = getEarlySaving(predictionStep, NUM_TIMESTEPS)\n",
    "total_savings = mi_savings + (1 - mi_savings) * emi_savings\n",
    "print('Savings due to MI-RNN : %f' % mi_savings)\n",
    "print('Savings due to Early prediction: %f' % emi_savings)\n",
    "print('Total Savings: %f' % (total_savings))"
   ]
  },
  {
   "cell_type": "code",
   "execution_count": 11,
   "metadata": {
    "ExecuteTime": {
     "end_time": "2018-12-14T14:35:17.044115Z",
     "start_time": "2018-12-14T14:35:16.259280Z"
    },
    "scrolled": false
   },
   "outputs": [
    {
     "name": "stdout",
     "output_type": "stream",
     "text": [
      "   len       acc  macro-fsc  macro-pre  macro-rec  micro-fsc  micro-pre  \\\n",
      "0    1  0.646452   0.608454   0.689071   0.581906   0.646452   0.646452   \n",
      "1    2  0.646918   0.611034   0.620723   0.606872   0.646918   0.646918   \n",
      "2    3  0.607674   0.556231   0.581544   0.603607   0.607674   0.607674   \n",
      "3    4  0.528252   0.509008   0.619781   0.556418   0.528252   0.528252   \n",
      "4    5  0.466266   0.472236   0.663204   0.517449   0.466266   0.466266   \n",
      "5    6  0.422182   0.442379   0.697692   0.487339   0.422182   0.422182   \n",
      "\n",
      "   micro-rec  \n",
      "0   0.646452  \n",
      "1   0.646918  \n",
      "2   0.607674  \n",
      "3   0.528252  \n",
      "4   0.466266  \n",
      "5   0.422182  \n",
      "Max accuracy 0.646918 at subsequencelength 2\n",
      "Max micro-f 0.646918 at subsequencelength 2\n",
      "Micro-precision 0.646918 at subsequencelength 2\n",
      "Micro-recall 0.646918 at subsequencelength 2\n",
      "Max macro-f 0.611034 at subsequencelength 2\n",
      "macro-precision 0.620723 at subsequencelength 2\n",
      "macro-recall 0.606872 at subsequencelength 2\n"
     ]
    }
   ],
   "source": [
    "# A slightly more detailed analysis method is provided. \n",
    "df = emiDriver.analyseModel(predictions, BAG_TEST, NUM_SUBINSTANCE, NUM_OUTPUT)"
   ]
  },
  {
   "cell_type": "markdown",
   "metadata": {},
   "source": [
    "## Picking the best model"
   ]
  },
  {
   "cell_type": "code",
   "execution_count": 12,
   "metadata": {
    "ExecuteTime": {
     "end_time": "2018-12-14T14:35:54.899340Z",
     "start_time": "2018-12-14T14:35:17.047464Z"
    }
   },
   "outputs": [
    {
     "name": "stdout",
     "output_type": "stream",
     "text": [
      "INFO:tensorflow:Restoring parameters from /home/sf/data/DREAMER/Arousal/models/model-gru-1003\n",
      "Round:  0, Validation accuracy: 0.4722, Test Accuracy (k = 2): 0.474197, Total Savings: 0.629132\n",
      "INFO:tensorflow:Restoring parameters from /home/sf/data/DREAMER/Arousal/models/model-gru-1007\n",
      "Round:  1, Validation accuracy: 0.5850, Test Accuracy (k = 2): 0.583999, Total Savings: 0.633690\n",
      "INFO:tensorflow:Restoring parameters from /home/sf/data/DREAMER/Arousal/models/model-gru-1011\n",
      "Round:  2, Validation accuracy: 0.6286, Test Accuracy (k = 2): 0.632340, Total Savings: 0.637225\n",
      "INFO:tensorflow:Restoring parameters from /home/sf/data/DREAMER/Arousal/models/model-gru-1015\n",
      "Round:  3, Validation accuracy: 0.6500, Test Accuracy (k = 2): 0.652983, Total Savings: 0.640312\n",
      "INFO:tensorflow:Restoring parameters from /home/sf/data/DREAMER/Arousal/models/model-gru-1019\n",
      "Round:  4, Validation accuracy: 0.6628, Test Accuracy (k = 2): 0.666919, Total Savings: 0.643258\n",
      "INFO:tensorflow:Restoring parameters from /home/sf/data/DREAMER/Arousal/models/model-gru-1023\n",
      "Round:  5, Validation accuracy: 0.6544, Test Accuracy (k = 2): 0.654440, Total Savings: 0.661873\n",
      "INFO:tensorflow:Restoring parameters from /home/sf/data/DREAMER/Arousal/models/model-gru-1027\n",
      "Round:  6, Validation accuracy: 0.6535, Test Accuracy (k = 2): 0.654440, Total Savings: 0.668051\n",
      "INFO:tensorflow:Restoring parameters from /home/sf/data/DREAMER/Arousal/models/model-gru-1028\n",
      "Round:  7, Validation accuracy: 0.6531, Test Accuracy (k = 2): 0.652983, Total Savings: 0.670961\n",
      "INFO:tensorflow:Restoring parameters from /home/sf/data/DREAMER/Arousal/models/model-gru-1033\n",
      "Round:  8, Validation accuracy: 0.6513, Test Accuracy (k = 2): 0.653741, Total Savings: 0.673200\n",
      "INFO:tensorflow:Restoring parameters from /home/sf/data/DREAMER/Arousal/models/model-gru-1037\n",
      "Round:  9, Validation accuracy: 0.6534, Test Accuracy (k = 2): 0.646918, Total Savings: 0.675036\n"
     ]
    }
   ],
   "source": [
    "devnull = open(os.devnull, 'r')\n",
    "for val in modelStats:\n",
    "    round_, acc, modelPrefix, globalStep = val\n",
    "    emiDriver.loadSavedGraphToNewSession(modelPrefix, globalStep, redirFile=devnull)\n",
    "    predictions, predictionStep = emiDriver.getInstancePredictions(x_test, y_test, earlyPolicy_minProb,\n",
    "                                                               minProb=0.99, keep_prob=1.0)\n",
    "\n",
    "    bagPredictions = emiDriver.getBagPredictions(predictions, minSubsequenceLen=k, numClass=NUM_OUTPUT)\n",
    "    print(\"Round: %2d, Validation accuracy: %.4f\" % (round_, acc), end='')\n",
    "    print(', Test Accuracy (k = %d): %f, ' % (k,  np.mean((bagPredictions == BAG_TEST).astype(int))), end='')\n",
    "    mi_savings = (1 - NUM_TIMESTEPS / ORIGINAL_NUM_TIMESTEPS)\n",
    "    emi_savings = getEarlySaving(predictionStep, NUM_TIMESTEPS)\n",
    "    total_savings = mi_savings + (1 - mi_savings) * emi_savings\n",
    "    print(\"Total Savings: %f\" % total_savings)"
   ]
  },
  {
   "cell_type": "code",
   "execution_count": 13,
   "metadata": {},
   "outputs": [],
   "source": [
    "params = {\n",
    "    \"NUM_HIDDEN\" : 128,\n",
    "    \"NUM_TIMESTEPS\" : 48, #subinstance length.\n",
    "    \"ORIGINAL_NUM_TIMESTEPS\" : 128,\n",
    "    \"NUM_FEATS\" : 16,\n",
    "    \"FORGET_BIAS\" : 1.0,\n",
    "    \"NUM_OUTPUT\" : 5,\n",
    "    \"USE_DROPOUT\" : 1, # '1' -> True. '0' -> False\n",
    "    \"KEEP_PROB\" : 0.75,\n",
    "    \"PREFETCH_NUM\" : 5,\n",
    "    \"BATCH_SIZE\" : 32,\n",
    "    \"NUM_EPOCHS\" : 2,\n",
    "    \"NUM_ITER\" : 4,\n",
    "    \"NUM_ROUNDS\" : 10,\n",
    "    \"LEARNING_RATE\" : 0.001,\n",
    "    \"MODEL_PREFIX\" : '/home/sf/data/DREAMER/Arousal/model-gru'\n",
    "}"
   ]
  },
  {
   "cell_type": "code",
   "execution_count": 14,
   "metadata": {},
   "outputs": [
    {
     "name": "stdout",
     "output_type": "stream",
     "text": [
      "   len       acc  macro-fsc  macro-pre  macro-rec  micro-fsc  micro-pre  \\\n",
      "0    1  0.646452   0.608454   0.689071   0.581906   0.646452   0.646452   \n",
      "1    2  0.646918   0.611034   0.620723   0.606872   0.646918   0.646918   \n",
      "2    3  0.607674   0.556231   0.581544   0.603607   0.607674   0.607674   \n",
      "3    4  0.528252   0.509008   0.619781   0.556418   0.528252   0.528252   \n",
      "4    5  0.466266   0.472236   0.663204   0.517449   0.466266   0.466266   \n",
      "5    6  0.422182   0.442379   0.697692   0.487339   0.422182   0.422182   \n",
      "\n",
      "   micro-rec  \n",
      "0   0.646452  \n",
      "1   0.646918  \n",
      "2   0.607674  \n",
      "3   0.528252  \n",
      "4   0.466266  \n",
      "5   0.422182  \n",
      "Max accuracy 0.646918 at subsequencelength 2\n",
      "Max micro-f 0.646918 at subsequencelength 2\n",
      "Micro-precision 0.646918 at subsequencelength 2\n",
      "Micro-recall 0.646918 at subsequencelength 2\n",
      "Max macro-f 0.611034 at subsequencelength 2\n",
      "macro-precision 0.620723 at subsequencelength 2\n",
      "macro-recall 0.606872 at subsequencelength 2\n",
      "+----+-------+----------+-------------+-------------+-------------+-------------+-------------+-------------+\n",
      "|    |   len |      acc |   macro-fsc |   macro-pre |   macro-rec |   micro-fsc |   micro-pre |   micro-rec |\n",
      "+====+=======+==========+=============+=============+=============+=============+=============+=============+\n",
      "|  0 |     1 | 0.646452 |    0.608454 |    0.689071 |    0.581906 |    0.646452 |    0.646452 |    0.646452 |\n",
      "+----+-------+----------+-------------+-------------+-------------+-------------+-------------+-------------+\n",
      "|  1 |     2 | 0.646918 |    0.611034 |    0.620723 |    0.606872 |    0.646918 |    0.646918 |    0.646918 |\n",
      "+----+-------+----------+-------------+-------------+-------------+-------------+-------------+-------------+\n",
      "|  2 |     3 | 0.607674 |    0.556231 |    0.581544 |    0.603607 |    0.607674 |    0.607674 |    0.607674 |\n",
      "+----+-------+----------+-------------+-------------+-------------+-------------+-------------+-------------+\n",
      "|  3 |     4 | 0.528252 |    0.509008 |    0.619781 |    0.556418 |    0.528252 |    0.528252 |    0.528252 |\n",
      "+----+-------+----------+-------------+-------------+-------------+-------------+-------------+-------------+\n",
      "|  4 |     5 | 0.466266 |    0.472236 |    0.663204 |    0.517449 |    0.466266 |    0.466266 |    0.466266 |\n",
      "+----+-------+----------+-------------+-------------+-------------+-------------+-------------+-------------+\n",
      "|  5 |     6 | 0.422182 |    0.442379 |    0.697692 |    0.487339 |    0.422182 |    0.422182 |    0.422182 |\n",
      "+----+-------+----------+-------------+-------------+-------------+-------------+-------------+-------------+\n"
     ]
    }
   ],
   "source": [
    "gru_dict = {**params}\n",
    "gru_dict[\"k\"] = k\n",
    "gru_dict[\"accuracy\"] = np.mean((bagPredictions == BAG_TEST).astype(int))\n",
    "gru_dict[\"total_savings\"] = total_savings\n",
    "gru_dict[\"y_test\"] = BAG_TEST\n",
    "gru_dict[\"y_pred\"] = bagPredictions\n",
    "\n",
    "# A slightly more detailed analysis method is provided. \n",
    "df = emiDriver.analyseModel(predictions, BAG_TEST, NUM_SUBINSTANCE, NUM_OUTPUT)\n",
    "print (tabulate(df, headers=list(df.columns), tablefmt='grid'))"
   ]
  },
  {
   "cell_type": "code",
   "execution_count": 15,
   "metadata": {},
   "outputs": [
    {
     "name": "stdout",
     "output_type": "stream",
     "text": [
      "Results for this run have been saved at /home/sf/data/DREAMER/Arousal/GRU/ .\n"
     ]
    }
   ],
   "source": [
    "dirname = \"/home/sf/data/DREAMER/Arousal/GRU/\"\n",
    "pathlib.Path(dirname).mkdir(parents=True, exist_ok=True)\n",
    "print (\"Results for this run have been saved at\" , dirname, \".\")\n",
    "\n",
    "now = datetime.datetime.now()\n",
    "filename = list((str(now.year),\"-\",str(now.month),\"-\",str(now.day),\"|\",str(now.hour),\"-\",str(now.minute)))\n",
    "filename = ''.join(filename)\n",
    "\n",
    "# Save the dictionary containing the params and the results.\n",
    "pkl.dump(gru_dict,open(dirname  + filename + \".pkl\",mode='wb'))"
   ]
  },
  {
   "cell_type": "code",
   "execution_count": 16,
   "metadata": {},
   "outputs": [
    {
     "data": {
      "text/plain": [
       "'/home/sf/data/DREAMER/Arousal/GRU/2019-8-14|1-54.pkl'"
      ]
     },
     "execution_count": 16,
     "metadata": {},
     "output_type": "execute_result"
    }
   ],
   "source": [
    "dirname+filename+'.pkl'"
   ]
  }
 ],
 "metadata": {
  "kernelspec": {
   "display_name": "Python 3",
   "language": "python",
   "name": "python3"
  },
  "language_info": {
   "codemirror_mode": {
    "name": "ipython",
    "version": 3
   },
   "file_extension": ".py",
   "mimetype": "text/x-python",
   "name": "python",
   "nbconvert_exporter": "python",
   "pygments_lexer": "ipython3",
   "version": "3.7.3"
  },
  "latex_envs": {
   "LaTeX_envs_menu_present": true,
   "autoclose": false,
   "autocomplete": true,
   "bibliofile": "biblio.bib",
   "cite_by": "apalike",
   "current_citInitial": 1,
   "eqLabelWithNumbers": true,
   "eqNumInitial": 1,
   "hotkeys": {
    "equation": "Ctrl-E",
    "itemize": "Ctrl-I"
   },
   "labels_anchors": false,
   "latex_user_defs": false,
   "report_style_numbering": false,
   "user_envs_cfg": false
  }
 },
 "nbformat": 4,
 "nbformat_minor": 2
}
