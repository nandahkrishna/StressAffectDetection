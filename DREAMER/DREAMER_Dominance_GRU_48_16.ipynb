{
 "cells": [
  {
   "cell_type": "markdown",
   "metadata": {},
   "source": [
    "# DREAMER Dominance EMI-GRU 48_16"
   ]
  },
  {
   "cell_type": "markdown",
   "metadata": {},
   "source": [
    "Adapted from Microsoft's notebooks, available at https://github.com/microsoft/EdgeML authored by Dennis et al."
   ]
  },
  {
   "cell_type": "code",
   "execution_count": 1,
   "metadata": {},
   "outputs": [],
   "source": [
    "import pandas as pd\n",
    "import numpy as np\n",
    "from tabulate import tabulate\n",
    "import os\n",
    "import datetime as datetime\n",
    "import pickle as pkl\n",
    "import pathlib"
   ]
  },
  {
   "cell_type": "code",
   "execution_count": 2,
   "metadata": {
    "ExecuteTime": {
     "end_time": "2018-12-14T14:17:51.796585Z",
     "start_time": "2018-12-14T14:17:49.648375Z"
    }
   },
   "outputs": [
    {
     "name": "stderr",
     "output_type": "stream",
     "text": [
      "Using TensorFlow backend.\n"
     ]
    }
   ],
   "source": [
    "from __future__ import print_function\n",
    "import os\n",
    "import sys\n",
    "import tensorflow as tf\n",
    "import numpy as np\n",
    "# Making sure edgeml is part of python path\n",
    "sys.path.insert(0, '../../')\n",
    "#For processing on CPU.\n",
    "os.environ['CUDA_VISIBLE_DEVICES'] ='0'\n",
    "\n",
    "np.random.seed(42)\n",
    "tf.set_random_seed(42)\n",
    "\n",
    "# MI-RNN and EMI-RNN imports\n",
    "from edgeml.graph.rnn import EMI_DataPipeline\n",
    "from edgeml.graph.rnn import EMI_GRU\n",
    "from edgeml.trainer.emirnnTrainer import EMI_Trainer, EMI_Driver\n",
    "import edgeml.utils\n",
    "\n",
    "import keras.backend as K\n",
    "cfg = K.tf.ConfigProto()\n",
    "cfg.gpu_options.allow_growth = True\n",
    "K.set_session(K.tf.Session(config=cfg))"
   ]
  },
  {
   "cell_type": "code",
   "execution_count": 10,
   "metadata": {
    "ExecuteTime": {
     "end_time": "2018-12-14T14:17:51.803381Z",
     "start_time": "2018-12-14T14:17:51.798799Z"
    }
   },
   "outputs": [],
   "source": [
    "# Network parameters for our LSTM + FC Layer\n",
    "NUM_HIDDEN = 128\n",
    "NUM_TIMESTEPS = 48\n",
    "ORIGINAL_NUM_TIMESTEPS = 128\n",
    "NUM_FEATS = 16\n",
    "FORGET_BIAS = 1.0\n",
    "NUM_OUTPUT = 5\n",
    "USE_DROPOUT = True\n",
    "KEEP_PROB = 0.75\n",
    "\n",
    "# For dataset API\n",
    "PREFETCH_NUM = 5\n",
    "BATCH_SIZE = 32\n",
    "\n",
    "# Number of epochs in *one iteration*\n",
    "NUM_EPOCHS = 2\n",
    "# Number of iterations in *one round*. After each iteration,\n",
    "# the model is dumped to disk. At the end of the current\n",
    "# round, the best model among all the dumped models in the\n",
    "# current round is picked up..\n",
    "NUM_ITER = 4\n",
    "# A round consists of multiple training iterations and a belief\n",
    "# update step using the best model from all of these iterations\n",
    "NUM_ROUNDS = 10\n",
    "LEARNING_RATE=0.001\n",
    "\n",
    "# A staging direcory to store models\n",
    "MODEL_PREFIX = '/home/sf/data/DREAMER/Dominance/48_16/models/GRU/model-gru'"
   ]
  },
  {
   "cell_type": "markdown",
   "metadata": {
    "heading_collapsed": true
   },
   "source": [
    "# Loading Data"
   ]
  },
  {
   "cell_type": "code",
   "execution_count": 11,
   "metadata": {
    "ExecuteTime": {
     "end_time": "2018-12-14T14:17:52.040352Z",
     "start_time": "2018-12-14T14:17:51.805319Z"
    },
    "hidden": true
   },
   "outputs": [
    {
     "name": "stdout",
     "output_type": "stream",
     "text": [
      "x_train shape is: (61735, 6, 48, 16)\n",
      "y_train shape is: (61735, 6, 5)\n",
      "x_test shape is: (6860, 6, 48, 16)\n",
      "y_test shape is: (6860, 6, 5)\n"
     ]
    }
   ],
   "source": [
    "# Loading the data\n",
    "path='/home/sf/data/DREAMER/Dominance/Fast_GRNN/48_16/'\n",
    "x_train, y_train = np.load(path + 'x_train.npy'), np.load(path + 'y_train.npy')\n",
    "x_test, y_test = np.load(path + 'x_test.npy'), np.load(path + 'y_test.npy')\n",
    "x_val, y_val = np.load(path + 'x_val.npy'), np.load(path + 'y_val.npy')\n",
    "\n",
    "# BAG_TEST, BAG_TRAIN, BAG_VAL represent bag_level labels. These are used for the label update\n",
    "# step of EMI/MI RNN\n",
    "BAG_TEST = np.argmax(y_test[:, 0, :], axis=1)\n",
    "BAG_TRAIN = np.argmax(y_train[:, 0, :], axis=1)\n",
    "BAG_VAL = np.argmax(y_val[:, 0, :], axis=1)\n",
    "NUM_SUBINSTANCE = x_train.shape[1]\n",
    "print(\"x_train shape is:\", x_train.shape)\n",
    "print(\"y_train shape is:\", y_train.shape)\n",
    "print(\"x_test shape is:\", x_val.shape)\n",
    "print(\"y_test shape is:\", y_val.shape)"
   ]
  },
  {
   "cell_type": "markdown",
   "metadata": {},
   "source": [
    "# Computation Graph"
   ]
  },
  {
   "cell_type": "code",
   "execution_count": 12,
   "metadata": {
    "ExecuteTime": {
     "end_time": "2018-12-14T14:17:52.053161Z",
     "start_time": "2018-12-14T14:17:52.042928Z"
    }
   },
   "outputs": [],
   "source": [
    "# Define the linear secondary classifier\n",
    "def createExtendedGraph(self, baseOutput, *args, **kwargs):\n",
    "    W1 = tf.Variable(np.random.normal(size=[NUM_HIDDEN, NUM_OUTPUT]).astype('float32'), name='W1')\n",
    "    B1 = tf.Variable(np.random.normal(size=[NUM_OUTPUT]).astype('float32'), name='B1')\n",
    "    y_cap = tf.add(tf.tensordot(baseOutput, W1, axes=1), B1, name='y_cap_tata')\n",
    "    self.output = y_cap\n",
    "    self.graphCreated = True\n",
    "\n",
    "def restoreExtendedGraph(self, graph, *args, **kwargs):\n",
    "    y_cap = graph.get_tensor_by_name('y_cap_tata:0')\n",
    "    self.output = y_cap\n",
    "    self.graphCreated = True\n",
    "    \n",
    "def feedDictFunc(self, keep_prob=None, inference=False, **kwargs):\n",
    "    if inference is False:\n",
    "        feedDict = {self._emiGraph.keep_prob: keep_prob}\n",
    "    else:\n",
    "        feedDict = {self._emiGraph.keep_prob: 1.0}\n",
    "    return feedDict\n",
    "    \n",
    "EMI_GRU._createExtendedGraph = createExtendedGraph\n",
    "EMI_GRU._restoreExtendedGraph = restoreExtendedGraph\n",
    "\n",
    "if USE_DROPOUT is True:\n",
    "    EMI_Driver.feedDictFunc = feedDictFunc"
   ]
  },
  {
   "cell_type": "code",
   "execution_count": 13,
   "metadata": {
    "ExecuteTime": {
     "end_time": "2018-12-14T14:17:52.335299Z",
     "start_time": "2018-12-14T14:17:52.055483Z"
    }
   },
   "outputs": [],
   "source": [
    "inputPipeline = EMI_DataPipeline(NUM_SUBINSTANCE, NUM_TIMESTEPS, NUM_FEATS, NUM_OUTPUT)\n",
    "emiGRU = EMI_GRU(NUM_SUBINSTANCE, NUM_HIDDEN, NUM_TIMESTEPS, NUM_FEATS,\n",
    "                        useDropout=USE_DROPOUT)\n",
    "emiTrainer = EMI_Trainer(NUM_TIMESTEPS, NUM_OUTPUT, lossType='xentropy',\n",
    "                         stepSize=LEARNING_RATE)"
   ]
  },
  {
   "cell_type": "code",
   "execution_count": 14,
   "metadata": {
    "ExecuteTime": {
     "end_time": "2018-12-14T14:18:05.031382Z",
     "start_time": "2018-12-14T14:17:52.338750Z"
    }
   },
   "outputs": [],
   "source": [
    "tf.reset_default_graph()\n",
    "g1 = tf.Graph()    \n",
    "with g1.as_default():\n",
    "    # Obtain the iterators to each batch of the data\n",
    "    x_batch, y_batch = inputPipeline()\n",
    "    # Create the forward computation graph based on the iterators\n",
    "    y_cap = emiGRU(x_batch)\n",
    "    # Create loss graphs and training routines\n",
    "    emiTrainer(y_cap, y_batch)"
   ]
  },
  {
   "cell_type": "markdown",
   "metadata": {},
   "source": [
    "# EMI Driver"
   ]
  },
  {
   "cell_type": "code",
   "execution_count": 15,
   "metadata": {
    "ExecuteTime": {
     "end_time": "2018-12-14T14:35:15.209910Z",
     "start_time": "2018-12-14T14:18:05.034359Z"
    },
    "scrolled": true
   },
   "outputs": [
    {
     "name": "stdout",
     "output_type": "stream",
     "text": [
      "Update policy: top-k\n",
      "Training with MI-RNN loss for 5 rounds\n",
      "Round: 0\n",
      "Epoch   1 Batch  1925 ( 3855) Loss 0.03100 Acc 0.36979 | Val acc 0.38717 | Model saved to /home/sf/data/DREAMER/Dominance/48_16/models/GRU/model-gru, global_step 1000\n",
      "Epoch   1 Batch  1925 ( 3855) Loss 0.02785 Acc 0.40104 | Val acc 0.41647 | Model saved to /home/sf/data/DREAMER/Dominance/48_16/models/GRU/model-gru, global_step 1001\n",
      "Epoch   1 Batch  1925 ( 3855) Loss 0.02730 Acc 0.39062 | Val acc 0.45000 | Model saved to /home/sf/data/DREAMER/Dominance/48_16/models/GRU/model-gru, global_step 1002\n",
      "Epoch   1 Batch  1925 ( 3855) Loss 0.02400 Acc 0.46354 | Val acc 0.48513 | Model saved to /home/sf/data/DREAMER/Dominance/48_16/models/GRU/model-gru, global_step 1003\n",
      "INFO:tensorflow:Restoring parameters from /home/sf/data/DREAMER/Dominance/48_16/models/GRU/model-gru-1003\n",
      "Round: 1\n",
      "Epoch   1 Batch  1925 ( 3855) Loss 0.02273 Acc 0.52604 | Val acc 0.51706 | Model saved to /home/sf/data/DREAMER/Dominance/48_16/models/GRU/model-gru, global_step 1004\n",
      "Epoch   1 Batch  1925 ( 3855) Loss 0.02227 Acc 0.55729 | Val acc 0.55423 | Model saved to /home/sf/data/DREAMER/Dominance/48_16/models/GRU/model-gru, global_step 1005\n",
      "Epoch   1 Batch  1925 ( 3855) Loss 0.02006 Acc 0.60417 | Val acc 0.58017 | Model saved to /home/sf/data/DREAMER/Dominance/48_16/models/GRU/model-gru, global_step 1006\n",
      "Epoch   1 Batch  1925 ( 3855) Loss 0.01900 Acc 0.66667 | Val acc 0.59985 | Model saved to /home/sf/data/DREAMER/Dominance/48_16/models/GRU/model-gru, global_step 1007\n",
      "INFO:tensorflow:Restoring parameters from /home/sf/data/DREAMER/Dominance/48_16/models/GRU/model-gru-1007\n",
      "Round: 2\n",
      "Epoch   1 Batch  1925 ( 3855) Loss 0.01803 Acc 0.67708 | Val acc 0.61268 | Model saved to /home/sf/data/DREAMER/Dominance/48_16/models/GRU/model-gru, global_step 1008\n",
      "Epoch   1 Batch  1925 ( 3855) Loss 0.01809 Acc 0.63021 | Val acc 0.62828 | Model saved to /home/sf/data/DREAMER/Dominance/48_16/models/GRU/model-gru, global_step 1009\n",
      "Epoch   1 Batch  1925 ( 3855) Loss 0.01681 Acc 0.65625 | Val acc 0.63499 | Model saved to /home/sf/data/DREAMER/Dominance/48_16/models/GRU/model-gru, global_step 1010\n",
      "Epoch   1 Batch  1925 ( 3855) Loss 0.01673 Acc 0.70312 | Val acc 0.64227 | Model saved to /home/sf/data/DREAMER/Dominance/48_16/models/GRU/model-gru, global_step 1011\n",
      "INFO:tensorflow:Restoring parameters from /home/sf/data/DREAMER/Dominance/48_16/models/GRU/model-gru-1011\n",
      "Round: 3\n",
      "Epoch   1 Batch  1925 ( 3855) Loss 0.01625 Acc 0.66667 | Val acc 0.65262 | Model saved to /home/sf/data/DREAMER/Dominance/48_16/models/GRU/model-gru, global_step 1012\n",
      "Epoch   1 Batch  1925 ( 3855) Loss 0.01641 Acc 0.68750 | Val acc 0.66122 | Model saved to /home/sf/data/DREAMER/Dominance/48_16/models/GRU/model-gru, global_step 1013\n",
      "Epoch   1 Batch  1925 ( 3855) Loss 0.01519 Acc 0.70833 | Val acc 0.65583 | Model saved to /home/sf/data/DREAMER/Dominance/48_16/models/GRU/model-gru, global_step 1014\n",
      "Epoch   1 Batch  1925 ( 3855) Loss 0.01486 Acc 0.70312 | Val acc 0.66268 | Model saved to /home/sf/data/DREAMER/Dominance/48_16/models/GRU/model-gru, global_step 1015\n",
      "INFO:tensorflow:Restoring parameters from /home/sf/data/DREAMER/Dominance/48_16/models/GRU/model-gru-1015\n",
      "Round: 4\n",
      "Epoch   1 Batch  1925 ( 3855) Loss 0.01496 Acc 0.69792 | Val acc 0.67128 | Model saved to /home/sf/data/DREAMER/Dominance/48_16/models/GRU/model-gru, global_step 1016\n",
      "Epoch   1 Batch  1925 ( 3855) Loss 0.01475 Acc 0.72917 | Val acc 0.67303 | Model saved to /home/sf/data/DREAMER/Dominance/48_16/models/GRU/model-gru, global_step 1017\n",
      "Epoch   1 Batch  1925 ( 3855) Loss 0.01540 Acc 0.70833 | Val acc 0.66764 | Model saved to /home/sf/data/DREAMER/Dominance/48_16/models/GRU/model-gru, global_step 1018\n",
      "Epoch   1 Batch  1925 ( 3855) Loss 0.01428 Acc 0.75000 | Val acc 0.67609 | Model saved to /home/sf/data/DREAMER/Dominance/48_16/models/GRU/model-gru, global_step 1019\n",
      "INFO:tensorflow:Restoring parameters from /home/sf/data/DREAMER/Dominance/48_16/models/GRU/model-gru-1019\n",
      "Round: 5\n",
      "Switching to EMI-Loss function\n",
      "Epoch   1 Batch  1925 ( 3855) Loss 0.90647 Acc 0.74479 | Val acc 0.65758 | Model saved to /home/sf/data/DREAMER/Dominance/48_16/models/GRU/model-gru, global_step 1020\n",
      "Epoch   1 Batch  1925 ( 3855) Loss 0.91761 Acc 0.64583 | Val acc 0.65933 | Model saved to /home/sf/data/DREAMER/Dominance/48_16/models/GRU/model-gru, global_step 1021\n",
      "Epoch   1 Batch  1925 ( 3855) Loss 0.88657 Acc 0.70833 | Val acc 0.65991 | Model saved to /home/sf/data/DREAMER/Dominance/48_16/models/GRU/model-gru, global_step 1022\n",
      "Epoch   1 Batch  1925 ( 3855) Loss 0.89605 Acc 0.68229 | Val acc 0.66749 | Model saved to /home/sf/data/DREAMER/Dominance/48_16/models/GRU/model-gru, global_step 1023\n",
      "INFO:tensorflow:Restoring parameters from /home/sf/data/DREAMER/Dominance/48_16/models/GRU/model-gru-1023\n",
      "Round: 6\n",
      "Epoch   1 Batch  1925 ( 3855) Loss 0.88819 Acc 0.69792 | Val acc 0.66910 | Model saved to /home/sf/data/DREAMER/Dominance/48_16/models/GRU/model-gru, global_step 1024\n",
      "Epoch   1 Batch  1925 ( 3855) Loss 0.85815 Acc 0.71875 | Val acc 0.66910 | Model saved to /home/sf/data/DREAMER/Dominance/48_16/models/GRU/model-gru, global_step 1025\n",
      "Epoch   1 Batch  1925 ( 3855) Loss 0.87857 Acc 0.71354 | Val acc 0.67128 | Model saved to /home/sf/data/DREAMER/Dominance/48_16/models/GRU/model-gru, global_step 1026\n",
      "Epoch   1 Batch  1925 ( 3855) Loss 0.87222 Acc 0.72396 | Val acc 0.66574 | Model saved to /home/sf/data/DREAMER/Dominance/48_16/models/GRU/model-gru, global_step 1027\n",
      "INFO:tensorflow:Restoring parameters from /home/sf/data/DREAMER/Dominance/48_16/models/GRU/model-gru-1026\n",
      "Round: 7\n",
      "Epoch   1 Batch  1925 ( 3855) Loss 0.86202 Acc 0.70312 | Val acc 0.66720 | Model saved to /home/sf/data/DREAMER/Dominance/48_16/models/GRU/model-gru, global_step 1028\n",
      "Epoch   1 Batch  1925 ( 3855) Loss 0.88255 Acc 0.68229 | Val acc 0.66545 | Model saved to /home/sf/data/DREAMER/Dominance/48_16/models/GRU/model-gru, global_step 1029\n",
      "Epoch   1 Batch  1925 ( 3855) Loss 0.89641 Acc 0.64583 | Val acc 0.66647 | Model saved to /home/sf/data/DREAMER/Dominance/48_16/models/GRU/model-gru, global_step 1030\n",
      "Epoch   1 Batch  1925 ( 3855) Loss 0.87491 Acc 0.67708 | Val acc 0.66297 | Model saved to /home/sf/data/DREAMER/Dominance/48_16/models/GRU/model-gru, global_step 1031\n",
      "INFO:tensorflow:Restoring parameters from /home/sf/data/DREAMER/Dominance/48_16/models/GRU/model-gru-1028\n",
      "Round: 8\n",
      "Epoch   1 Batch  1925 ( 3855) Loss 0.88003 Acc 0.67708 | Val acc 0.66429 | Model saved to /home/sf/data/DREAMER/Dominance/48_16/models/GRU/model-gru, global_step 1032\n",
      "Epoch   1 Batch  1925 ( 3855) Loss 0.87404 Acc 0.69271 | Val acc 0.65904 | Model saved to /home/sf/data/DREAMER/Dominance/48_16/models/GRU/model-gru, global_step 1033\n",
      "Epoch   1 Batch  1925 ( 3855) Loss 0.87308 Acc 0.72396 | Val acc 0.66603 | Model saved to /home/sf/data/DREAMER/Dominance/48_16/models/GRU/model-gru, global_step 1034\n",
      "Epoch   1 Batch  1925 ( 3855) Loss 0.86821 Acc 0.67708 | Val acc 0.66822 | Model saved to /home/sf/data/DREAMER/Dominance/48_16/models/GRU/model-gru, global_step 1035\n",
      "INFO:tensorflow:Restoring parameters from /home/sf/data/DREAMER/Dominance/48_16/models/GRU/model-gru-1035\n",
      "Round: 9\n",
      "Epoch   1 Batch  1925 ( 3855) Loss 0.90025 Acc 0.69792 | Val acc 0.66020 | Model saved to /home/sf/data/DREAMER/Dominance/48_16/models/GRU/model-gru, global_step 1036\n",
      "Epoch   1 Batch  1925 ( 3855) Loss 0.89532 Acc 0.66146 | Val acc 0.66676 | Model saved to /home/sf/data/DREAMER/Dominance/48_16/models/GRU/model-gru, global_step 1037\n",
      "Epoch   1 Batch  1925 ( 3855) Loss 0.87133 Acc 0.69271 | Val acc 0.66706 | Model saved to /home/sf/data/DREAMER/Dominance/48_16/models/GRU/model-gru, global_step 1038\n",
      "Epoch   1 Batch  1925 ( 3855) Loss 0.86914 Acc 0.68750 | Val acc 0.66837 | Model saved to /home/sf/data/DREAMER/Dominance/48_16/models/GRU/model-gru, global_step 1039\n",
      "INFO:tensorflow:Restoring parameters from /home/sf/data/DREAMER/Dominance/48_16/models/GRU/model-gru-1039\n"
     ]
    }
   ],
   "source": [
    "with g1.as_default():\n",
    "    emiDriver = EMI_Driver(inputPipeline, emiGRU, emiTrainer)\n",
    "\n",
    "emiDriver.initializeSession(g1)\n",
    "y_updated, modelStats = emiDriver.run(numClasses=NUM_OUTPUT, x_train=x_train,\n",
    "                                      y_train=y_train, bag_train=BAG_TRAIN,\n",
    "                                      x_val=x_val, y_val=y_val, bag_val=BAG_VAL,\n",
    "                                      numIter=NUM_ITER, keep_prob=KEEP_PROB,\n",
    "                                      numRounds=NUM_ROUNDS, batchSize=BATCH_SIZE,\n",
    "                                      numEpochs=NUM_EPOCHS, modelPrefix=MODEL_PREFIX,\n",
    "                                      fracEMI=0.5, updatePolicy='top-k', k=1)"
   ]
  },
  {
   "cell_type": "markdown",
   "metadata": {},
   "source": [
    "# Evaluating the  trained model"
   ]
  },
  {
   "cell_type": "code",
   "execution_count": 16,
   "metadata": {
    "ExecuteTime": {
     "end_time": "2018-12-14T14:35:15.218040Z",
     "start_time": "2018-12-14T14:35:15.211771Z"
    }
   },
   "outputs": [],
   "source": [
    "# Early Prediction Policy: We make an early prediction based on the predicted classes\n",
    "#     probability. If the predicted class probability > minProb at some step, we make\n",
    "#     a prediction at that step.\n",
    "def earlyPolicy_minProb(instanceOut, minProb, **kwargs):\n",
    "    assert instanceOut.ndim == 2\n",
    "    classes = np.argmax(instanceOut, axis=1)\n",
    "    prob = np.max(instanceOut, axis=1)\n",
    "    index = np.where(prob >= minProb)[0]\n",
    "    if len(index) == 0:\n",
    "        assert (len(instanceOut) - 1) == (len(classes) - 1)\n",
    "        return classes[-1], len(instanceOut) - 1\n",
    "    index = index[0]\n",
    "    return classes[index], index\n",
    "\n",
    "def getEarlySaving(predictionStep, numTimeSteps, returnTotal=False):\n",
    "    predictionStep = predictionStep + 1\n",
    "    predictionStep = np.reshape(predictionStep, -1)\n",
    "    totalSteps = np.sum(predictionStep)\n",
    "    maxSteps = len(predictionStep) * numTimeSteps\n",
    "    savings = 1.0 - (totalSteps / maxSteps)\n",
    "    if returnTotal:\n",
    "        return savings, totalSteps\n",
    "    return savings"
   ]
  },
  {
   "cell_type": "code",
   "execution_count": 17,
   "metadata": {
    "ExecuteTime": {
     "end_time": "2018-12-14T14:35:16.257489Z",
     "start_time": "2018-12-14T14:35:15.221029Z"
    }
   },
   "outputs": [
    {
     "name": "stdout",
     "output_type": "stream",
     "text": [
      "Accuracy at k = 2: 0.669893\n",
      "Savings due to MI-RNN : 0.625000\n",
      "Savings due to Early prediction: 0.133547\n",
      "Total Savings: 0.675080\n"
     ]
    }
   ],
   "source": [
    "k = 2\n",
    "predictions, predictionStep = emiDriver.getInstancePredictions(x_test, y_test, earlyPolicy_minProb,\n",
    "                                                               minProb=0.99, keep_prob=1.0)\n",
    "bagPredictions = emiDriver.getBagPredictions(predictions, minSubsequenceLen=k, numClass=NUM_OUTPUT)\n",
    "print('Accuracy at k = %d: %f' % (k,  np.mean((bagPredictions == BAG_TEST).astype(int))))\n",
    "mi_savings = (1 - NUM_TIMESTEPS / ORIGINAL_NUM_TIMESTEPS)\n",
    "emi_savings = getEarlySaving(predictionStep, NUM_TIMESTEPS)\n",
    "total_savings = mi_savings + (1 - mi_savings) * emi_savings\n",
    "print('Savings due to MI-RNN : %f' % mi_savings)\n",
    "print('Savings due to Early prediction: %f' % emi_savings)\n",
    "print('Total Savings: %f' % (total_savings))"
   ]
  },
  {
   "cell_type": "code",
   "execution_count": 18,
   "metadata": {
    "ExecuteTime": {
     "end_time": "2018-12-14T14:35:17.044115Z",
     "start_time": "2018-12-14T14:35:16.259280Z"
    },
    "scrolled": false
   },
   "outputs": [
    {
     "name": "stdout",
     "output_type": "stream",
     "text": [
      "   len       acc  macro-fsc  macro-pre  macro-rec  micro-fsc  micro-pre  \\\n",
      "0    1  0.670185   0.635187   0.713956   0.607175   0.670185   0.670185   \n",
      "1    2  0.669893   0.639764   0.639024   0.641768   0.669893   0.669893   \n",
      "2    3  0.631232   0.574154   0.594423   0.641324   0.631232   0.631232   \n",
      "3    4  0.541956   0.520735   0.628534   0.588688   0.541956   0.541956   \n",
      "4    5  0.470873   0.480797   0.664928   0.542186   0.470873   0.470873   \n",
      "5    6  0.420783   0.450270   0.700213   0.506986   0.420783   0.420783   \n",
      "\n",
      "   micro-rec  \n",
      "0   0.670185  \n",
      "1   0.669893  \n",
      "2   0.631232  \n",
      "3   0.541956  \n",
      "4   0.470873  \n",
      "5   0.420783  \n",
      "Max accuracy 0.670185 at subsequencelength 1\n",
      "Max micro-f 0.670185 at subsequencelength 1\n",
      "Micro-precision 0.670185 at subsequencelength 1\n",
      "Micro-recall 0.670185 at subsequencelength 1\n",
      "Max macro-f 0.639764 at subsequencelength 2\n",
      "macro-precision 0.639024 at subsequencelength 2\n",
      "macro-recall 0.641768 at subsequencelength 2\n"
     ]
    }
   ],
   "source": [
    "# A slightly more detailed analysis method is provided. \n",
    "df = emiDriver.analyseModel(predictions, BAG_TEST, NUM_SUBINSTANCE, NUM_OUTPUT)"
   ]
  },
  {
   "cell_type": "markdown",
   "metadata": {},
   "source": [
    "## Picking the best model"
   ]
  },
  {
   "cell_type": "code",
   "execution_count": null,
   "metadata": {
    "ExecuteTime": {
     "end_time": "2018-12-14T14:35:54.899340Z",
     "start_time": "2018-12-14T14:35:17.047464Z"
    }
   },
   "outputs": [
    {
     "name": "stdout",
     "output_type": "stream",
     "text": [
      "INFO:tensorflow:Restoring parameters from /home/sf/data/DREAMER/Dominance/48_16/models/GRU/model-gru-1003\n",
      "Round:  0, Validation accuracy: 0.4851, Test Accuracy (k = 2): 0.486151, Total Savings: 0.628213\n",
      "INFO:tensorflow:Restoring parameters from /home/sf/data/DREAMER/Dominance/48_16/models/GRU/model-gru-1007\n",
      "Round:  1, Validation accuracy: 0.5999, Test Accuracy (k = 2): 0.601143, Total Savings: 0.633056\n",
      "INFO:tensorflow:Restoring parameters from /home/sf/data/DREAMER/Dominance/48_16/models/GRU/model-gru-1011\n",
      "Round:  2, Validation accuracy: 0.6423, Test Accuracy (k = 2): 0.638405, Total Savings: 0.635002\n",
      "INFO:tensorflow:Restoring parameters from /home/sf/data/DREAMER/Dominance/48_16/models/GRU/model-gru-1015\n",
      "Round:  3, Validation accuracy: 0.6627, Test Accuracy (k = 2): 0.657881, Total Savings: 0.638982\n",
      "INFO:tensorflow:Restoring parameters from /home/sf/data/DREAMER/Dominance/48_16/models/GRU/model-gru-1019\n",
      "Round:  4, Validation accuracy: 0.6761, Test Accuracy (k = 2): 0.674033, Total Savings: 0.641478\n",
      "INFO:tensorflow:Restoring parameters from /home/sf/data/DREAMER/Dominance/48_16/models/GRU/model-gru-1023\n",
      "Round:  5, Validation accuracy: 0.6675, Test Accuracy (k = 2): 0.658114, Total Savings: 0.659983\n",
      "INFO:tensorflow:Restoring parameters from /home/sf/data/DREAMER/Dominance/48_16/models/GRU/model-gru-1026\n",
      "Round:  6, Validation accuracy: 0.6713, Test Accuracy (k = 2): 0.665053, Total Savings: 0.664241\n",
      "INFO:tensorflow:Restoring parameters from /home/sf/data/DREAMER/Dominance/48_16/models/GRU/model-gru-1028\n",
      "Round:  7, Validation accuracy: 0.6672, Test Accuracy (k = 2): 0.662837, Total Savings: 0.664690\n",
      "INFO:tensorflow:Restoring parameters from /home/sf/data/DREAMER/Dominance/48_16/models/GRU/model-gru-1035\n",
      "Round:  8, Validation accuracy: 0.6682, Test Accuracy (k = 2): 0.665578, Total Savings: 0.670677\n",
      "INFO:tensorflow:Restoring parameters from /home/sf/data/DREAMER/Dominance/48_16/models/GRU/model-gru-1039\n"
     ]
    }
   ],
   "source": [
    "devnull = open(os.devnull, 'r')\n",
    "for val in modelStats:\n",
    "    round_, acc, modelPrefix, globalStep = val\n",
    "    emiDriver.loadSavedGraphToNewSession(modelPrefix, globalStep, redirFile=devnull)\n",
    "    predictions, predictionStep = emiDriver.getInstancePredictions(x_test, y_test, earlyPolicy_minProb,\n",
    "                                                               minProb=0.99, keep_prob=1.0)\n",
    "\n",
    "    bagPredictions = emiDriver.getBagPredictions(predictions, minSubsequenceLen=k, numClass=NUM_OUTPUT)\n",
    "    print(\"Round: %2d, Validation accuracy: %.4f\" % (round_, acc), end='')\n",
    "    print(', Test Accuracy (k = %d): %f, ' % (k,  np.mean((bagPredictions == BAG_TEST).astype(int))), end='')\n",
    "    mi_savings = (1 - NUM_TIMESTEPS / ORIGINAL_NUM_TIMESTEPS)\n",
    "    emi_savings = getEarlySaving(predictionStep, NUM_TIMESTEPS)\n",
    "    total_savings = mi_savings + (1 - mi_savings) * emi_savings\n",
    "    print(\"Total Savings: %f\" % total_savings)"
   ]
  },
  {
   "cell_type": "code",
   "execution_count": null,
   "metadata": {},
   "outputs": [],
   "source": [
    "params = {\n",
    "    \"NUM_HIDDEN\" : 128,\n",
    "    \"NUM_TIMESTEPS\" : 48, #subinstance length.\n",
    "    \"ORIGINAL_NUM_TIMESTEPS\" : 128,\n",
    "    \"NUM_FEATS\" : 16,\n",
    "    \"FORGET_BIAS\" : 1.0,\n",
    "    \"NUM_OUTPUT\" : 5,\n",
    "    \"USE_DROPOUT\" : 1, # '1' -> True. '0' -> False\n",
    "    \"KEEP_PROB\" : 0.75,\n",
    "    \"PREFETCH_NUM\" : 5,\n",
    "    \"BATCH_SIZE\" : 32,\n",
    "    \"NUM_EPOCHS\" : 2,\n",
    "    \"NUM_ITER\" : 4,\n",
    "    \"NUM_ROUNDS\" : 10,\n",
    "    \"LEARNING_RATE\" : 0.001,\n",
    "    \"MODEL_PREFIX\" : '/home/sf/data/DREAMER/Dominance/model-gru'\n",
    "}"
   ]
  },
  {
   "cell_type": "code",
   "execution_count": null,
   "metadata": {},
   "outputs": [],
   "source": [
    "gru_dict = {**params}\n",
    "gru_dict[\"k\"] = k\n",
    "gru_dict[\"accuracy\"] = np.mean((bagPredictions == BAG_TEST).astype(int))\n",
    "gru_dict[\"total_savings\"] = total_savings\n",
    "gru_dict[\"y_test\"] = BAG_TEST\n",
    "gru_dict[\"y_pred\"] = bagPredictions\n",
    "\n",
    "# A slightly more detailed analysis method is provided. \n",
    "df = emiDriver.analyseModel(predictions, BAG_TEST, NUM_SUBINSTANCE, NUM_OUTPUT)\n",
    "print (tabulate(df, headers=list(df.columns), tablefmt='grid'))"
   ]
  },
  {
   "cell_type": "code",
   "execution_count": null,
   "metadata": {},
   "outputs": [],
   "source": [
    "dirname = \"home/sf/data/DREAMER/Dominance/GRU/\"\n",
    "pathlib.Path(dirname).mkdir(parents=True, exist_ok=True)\n",
    "print (\"Results for this run have been saved at\" , dirname, \".\")\n",
    "\n",
    "now = datetime.datetime.now()\n",
    "filename = list((str(now.year),\"-\",str(now.month),\"-\",str(now.day),\"|\",str(now.hour),\"-\",str(now.minute)))\n",
    "filename = ''.join(filename)\n",
    "\n",
    "#Save the dictionary containing the params and the results.\n",
    "pkl.dump(gru_dict,open(dirname  + filename + \".pkl\",mode='wb'))"
   ]
  },
  {
   "cell_type": "code",
   "execution_count": 23,
   "metadata": {},
   "outputs": [
    {
     "data": {
      "text/plain": [
       "'home/sf/data/DREAMER/Dominance/GRU/2019-8-11|2-30.pkl'"
      ]
     },
     "execution_count": 23,
     "metadata": {},
     "output_type": "execute_result"
    }
   ],
   "source": [
    "dirname+filename+'.pkl'"
   ]
  }
 ],
 "metadata": {
  "kernelspec": {
   "display_name": "Python 3",
   "language": "python",
   "name": "python3"
  },
  "language_info": {
   "codemirror_mode": {
    "name": "ipython",
    "version": 3
   },
   "file_extension": ".py",
   "mimetype": "text/x-python",
   "name": "python",
   "nbconvert_exporter": "python",
   "pygments_lexer": "ipython3",
   "version": "3.7.3"
  },
  "latex_envs": {
   "LaTeX_envs_menu_present": true,
   "autoclose": false,
   "autocomplete": true,
   "bibliofile": "biblio.bib",
   "cite_by": "apalike",
   "current_citInitial": 1,
   "eqLabelWithNumbers": true,
   "eqNumInitial": 1,
   "hotkeys": {
    "equation": "Ctrl-E",
    "itemize": "Ctrl-I"
   },
   "labels_anchors": false,
   "latex_user_defs": false,
   "report_style_numbering": false,
   "user_envs_cfg": false
  }
 },
 "nbformat": 4,
 "nbformat_minor": 2
}
